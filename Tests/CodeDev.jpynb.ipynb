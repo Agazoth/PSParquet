{
 "cells": [
  {
   "cell_type": "code",
   "execution_count": 2,
   "metadata": {
    "dotnet_interactive": {
     "language": "csharp"
    },
    "polyglot_notebook": {
     "kernelName": "csharp"
    },
    "vscode": {
     "languageId": "polyglot-notebook"
    }
   },
   "outputs": [
    {
     "data": {
      "text/html": [
       "<div><div></div><div></div><div><strong>Installed Packages</strong><ul><li><span>IronCompress, 1.5.1</span></li><li><span>Parquet.Net, 4.16.4</span></li><li><span>PowerShellStandard.Library, 5.1.1</span></li></ul></div></div>"
      ]
     },
     "metadata": {},
     "output_type": "display_data"
    },
    {
     "data": {
      "text/plain": [
       "Loading extensions from `C:\\Users\\Ax\\.nuget\\packages\\microsoft.data.analysis\\0.20.1\\interactive-extensions\\dotnet\\Microsoft.Data.Analysis.Interactive.dll`"
      ]
     },
     "metadata": {},
     "output_type": "display_data"
    }
   ],
   "source": [
    "#r \"nuget: PowerShellStandard.Library, 5.1.1\"\n",
    "#r \"nuget: Parquet.Net, 4.16.4\"\n",
    "#r \"nuget: IronCompress, 1.5.1\""
   ]
  },
  {
   "cell_type": "code",
   "execution_count": 67,
   "metadata": {
    "dotnet_interactive": {
     "language": "csharp"
    },
    "polyglot_notebook": {
     "kernelName": "csharp"
    },
    "vscode": {
     "languageId": "polyglot-notebook"
    }
   },
   "outputs": [],
   "source": [
    "    public class ParquetData\n",
    "    {\n",
    "        public Type Type { get; set; }\n",
    "        public string Parameter { get; set; }\n",
    "        public dynamic[] Data { get; set; }\n",
    "\n",
    "        public ParquetData() { }\n",
    "\n",
    "    }"
   ]
  },
  {
   "cell_type": "code",
   "execution_count": 4,
   "metadata": {
    "dotnet_interactive": {
     "language": "csharp"
    },
    "polyglot_notebook": {
     "kernelName": "csharp"
    },
    "vscode": {
     "languageId": "polyglot-notebook"
    }
   },
   "outputs": [
    {
     "data": {
      "text/html": [
       "<details open=\"open\" class=\"dni-treeview\"><summary><span class=\"dni-code-hint\"><code>Submission#3+ParquetData</code></span></summary><div><table><thead><tr></tr></thead><tbody><tr><td>Types</td><td><div class=\"dni-plaintext\"><pre>&lt;null&gt;</pre></div></td></tr><tr><td>Parameters</td><td><div class=\"dni-plaintext\"><pre>&lt;null&gt;</pre></div></td></tr><tr><td>Data</td><td><div class=\"dni-plaintext\"><pre>&lt;null&gt;</pre></div></td></tr></tbody></table></div></details><style>\r\n",
       ".dni-code-hint {\r\n",
       "    font-style: italic;\r\n",
       "    overflow: hidden;\r\n",
       "    white-space: nowrap;\r\n",
       "}\r\n",
       ".dni-treeview {\r\n",
       "    white-space: nowrap;\r\n",
       "}\r\n",
       ".dni-treeview td {\r\n",
       "    vertical-align: top;\r\n",
       "    text-align: start;\r\n",
       "}\r\n",
       "details.dni-treeview {\r\n",
       "    padding-left: 1em;\r\n",
       "}\r\n",
       "table td {\r\n",
       "    text-align: start;\r\n",
       "}\r\n",
       "table tr { \r\n",
       "    vertical-align: top; \r\n",
       "    margin: 0em 0px;\r\n",
       "}\r\n",
       "table tr td pre \r\n",
       "{ \r\n",
       "    vertical-align: top !important; \r\n",
       "    margin: 0em 0px !important;\r\n",
       "} \r\n",
       "table th {\r\n",
       "    text-align: start;\r\n",
       "}\r\n",
       "</style>"
      ]
     },
     "metadata": {},
     "output_type": "display_data"
    }
   ],
   "source": [
    "var data = new ParquetData();\n",
    "return data;"
   ]
  },
  {
   "cell_type": "code",
   "execution_count": 5,
   "metadata": {
    "dotnet_interactive": {
     "language": "csharp"
    },
    "polyglot_notebook": {
     "kernelName": "csharp"
    },
    "vscode": {
     "languageId": "polyglot-notebook"
    }
   },
   "outputs": [],
   "source": [
    "using System.Management.Automation;"
   ]
  },
  {
   "cell_type": "code",
   "execution_count": 120,
   "metadata": {
    "dotnet_interactive": {
     "language": "csharp"
    },
    "polyglot_notebook": {
     "kernelName": "csharp"
    },
    "vscode": {
     "languageId": "polyglot-notebook"
    }
   },
   "outputs": [],
   "source": [
    "\n",
    "List<PSObject> io = new List<PSObject>();\n",
    "Random rnd = new Random();\n",
    "DateTime start = new DateTime(1995, 1, 1);\n",
    "for (int i=0; i<1000;i++)\n",
    "{\n",
    "    int range = ((TimeSpan)(DateTime.Today - start)).Days; \n",
    "    var obj = new PSObject();\n",
    "    obj.Members.Add(new PSNoteProperty(\"Id\", (i == 1 ? null : Guid.NewGuid().ToString())));\n",
    "    obj.Members.Add(new PSNoteProperty(\"NumberInt64\", (i == 1 ? null : rnd.NextInt64())));\n",
    "    obj.Members.Add(new PSNoteProperty(\"NumberInt\", (i == 1 ? null : rnd.Next())));\n",
    "    obj.Members.Add(new PSNoteProperty(\"NumberSingle\", (i == 1 ? null : rnd.NextSingle())));\n",
    "    obj.Members.Add(new PSNoteProperty(\"Date\", (i == 1 ? null : start.AddDays(rnd.Next(range)))));\n",
    "    io.Add(obj);\n",
    "}\n"
   ]
  },
  {
   "cell_type": "code",
   "execution_count": 79,
   "metadata": {
    "dotnet_interactive": {
     "language": "csharp"
    },
    "polyglot_notebook": {
     "kernelName": "csharp"
    },
    "vscode": {
     "languageId": "polyglot-notebook"
    }
   },
   "outputs": [
    {
     "data": {
      "text/html": [
       "<table><thead><tr><th><i>index</i></th><th>value</th></tr></thead><tbody><tr><td>0</td><td><details class=\"dni-treeview\"><summary><span class=\"dni-code-hint\"><code>string Id=13407869-ad3c-45c1-aa31-7576b992faaa</code></span></summary><div><table><thead><tr></tr></thead><tbody><tr><td>MemberType</td><td><span>NoteProperty</span></td></tr><tr><td>IsSettable</td><td><div class=\"dni-plaintext\"><pre>True</pre></div></td></tr><tr><td>IsGettable</td><td><div class=\"dni-plaintext\"><pre>True</pre></div></td></tr><tr><td>Value</td><td><div class=\"dni-plaintext\"><pre>13407869-ad3c-45c1-aa31-7576b992faaa</pre></div></td></tr><tr><td>TypeNameOfValue</td><td><div class=\"dni-plaintext\"><pre>System.String</pre></div></td></tr><tr><td>Name</td><td><div class=\"dni-plaintext\"><pre>Id</pre></div></td></tr><tr><td>IsInstance</td><td><div class=\"dni-plaintext\"><pre>True</pre></div></td></tr></tbody></table></div></details></td></tr><tr><td>1</td><td><details class=\"dni-treeview\"><summary><span class=\"dni-code-hint\"><code>long NumberInt64=7845629069167213222</code></span></summary><div><table><thead><tr></tr></thead><tbody><tr><td>MemberType</td><td><span>NoteProperty</span></td></tr><tr><td>IsSettable</td><td><div class=\"dni-plaintext\"><pre>True</pre></div></td></tr><tr><td>IsGettable</td><td><div class=\"dni-plaintext\"><pre>True</pre></div></td></tr><tr><td>Value</td><td><div class=\"dni-plaintext\"><pre>7845629069167213222</pre></div></td></tr><tr><td>TypeNameOfValue</td><td><div class=\"dni-plaintext\"><pre>System.Int64</pre></div></td></tr><tr><td>Name</td><td><div class=\"dni-plaintext\"><pre>NumberInt64</pre></div></td></tr><tr><td>IsInstance</td><td><div class=\"dni-plaintext\"><pre>True</pre></div></td></tr></tbody></table></div></details></td></tr><tr><td>2</td><td><details class=\"dni-treeview\"><summary><span class=\"dni-code-hint\"><code>int NumberInt=1183366430</code></span></summary><div><table><thead><tr></tr></thead><tbody><tr><td>MemberType</td><td><span>NoteProperty</span></td></tr><tr><td>IsSettable</td><td><div class=\"dni-plaintext\"><pre>True</pre></div></td></tr><tr><td>IsGettable</td><td><div class=\"dni-plaintext\"><pre>True</pre></div></td></tr><tr><td>Value</td><td><div class=\"dni-plaintext\"><pre>1183366430</pre></div></td></tr><tr><td>TypeNameOfValue</td><td><div class=\"dni-plaintext\"><pre>System.Int32</pre></div></td></tr><tr><td>Name</td><td><div class=\"dni-plaintext\"><pre>NumberInt</pre></div></td></tr><tr><td>IsInstance</td><td><div class=\"dni-plaintext\"><pre>True</pre></div></td></tr></tbody></table></div></details></td></tr><tr><td>3</td><td><details class=\"dni-treeview\"><summary><span class=\"dni-code-hint\"><code>float NumberSingle=0.12362164</code></span></summary><div><table><thead><tr></tr></thead><tbody><tr><td>MemberType</td><td><span>NoteProperty</span></td></tr><tr><td>IsSettable</td><td><div class=\"dni-plaintext\"><pre>True</pre></div></td></tr><tr><td>IsGettable</td><td><div class=\"dni-plaintext\"><pre>True</pre></div></td></tr><tr><td>Value</td><td><div class=\"dni-plaintext\"><pre>0.12362164</pre></div></td></tr><tr><td>TypeNameOfValue</td><td><div class=\"dni-plaintext\"><pre>System.Single</pre></div></td></tr><tr><td>Name</td><td><div class=\"dni-plaintext\"><pre>NumberSingle</pre></div></td></tr><tr><td>IsInstance</td><td><div class=\"dni-plaintext\"><pre>True</pre></div></td></tr></tbody></table></div></details></td></tr><tr><td>4</td><td><details class=\"dni-treeview\"><summary><span class=\"dni-code-hint\"><code>datetime Date=8/29/2006 12:00:00 AM</code></span></summary><div><table><thead><tr></tr></thead><tbody><tr><td>MemberType</td><td><span>NoteProperty</span></td></tr><tr><td>IsSettable</td><td><div class=\"dni-plaintext\"><pre>True</pre></div></td></tr><tr><td>IsGettable</td><td><div class=\"dni-plaintext\"><pre>True</pre></div></td></tr><tr><td>Value</td><td><span>2006-08-29 00:00:00Z</span></td></tr><tr><td>TypeNameOfValue</td><td><div class=\"dni-plaintext\"><pre>System.DateTime</pre></div></td></tr><tr><td>Name</td><td><div class=\"dni-plaintext\"><pre>Date</pre></div></td></tr><tr><td>IsInstance</td><td><div class=\"dni-plaintext\"><pre>True</pre></div></td></tr></tbody></table></div></details></td></tr></tbody></table><style>\r\n",
       ".dni-code-hint {\r\n",
       "    font-style: italic;\r\n",
       "    overflow: hidden;\r\n",
       "    white-space: nowrap;\r\n",
       "}\r\n",
       ".dni-treeview {\r\n",
       "    white-space: nowrap;\r\n",
       "}\r\n",
       ".dni-treeview td {\r\n",
       "    vertical-align: top;\r\n",
       "    text-align: start;\r\n",
       "}\r\n",
       "details.dni-treeview {\r\n",
       "    padding-left: 1em;\r\n",
       "}\r\n",
       "table td {\r\n",
       "    text-align: start;\r\n",
       "}\r\n",
       "table tr { \r\n",
       "    vertical-align: top; \r\n",
       "    margin: 0em 0px;\r\n",
       "}\r\n",
       "table tr td pre \r\n",
       "{ \r\n",
       "    vertical-align: top !important; \r\n",
       "    margin: 0em 0px !important;\r\n",
       "} \r\n",
       "table th {\r\n",
       "    text-align: start;\r\n",
       "}\r\n",
       "</style>"
      ]
     },
     "metadata": {},
     "output_type": "display_data"
    }
   ],
   "source": [
    "var op = io[0];\n",
    "var props = io[0].Members.Where(w => w.GetType() == typeof(PSNoteProperty)).ToList() ;\n",
    "return props;"
   ]
  },
  {
   "cell_type": "code",
   "execution_count": 80,
   "metadata": {
    "vscode": {
     "languageId": "polyglot-notebook"
    }
   },
   "outputs": [
    {
     "data": {
      "text/html": [
       "<table><thead><tr><th><i>index</i></th><th>value</th></tr></thead><tbody><tr><td>0</td><td><details class=\"dni-treeview\"><summary><span class=\"dni-code-hint\"><code>Submission#67+ParquetData</code></span></summary><div><table><thead><tr></tr></thead><tbody><tr><td>Type</td><td><span><a href=\"https://docs.microsoft.com/dotnet/api/system.string?view=net-7.0\">System.String</a></span></td></tr><tr><td>Parameter</td><td><div class=\"dni-plaintext\"><pre>Id</pre></div></td></tr><tr><td>Data</td><td><table><thead><tr><th><i>index</i></th><th>value</th></tr></thead><tbody><tr><td>0</td><td><div class=\"dni-plaintext\"><pre>13407869-ad3c-45c1-aa31-7576b992faaa</pre></div></td></tr><tr><td>1</td><td><div class=\"dni-plaintext\"><pre>&lt;null&gt;</pre></div></td></tr><tr><td>2</td><td><div class=\"dni-plaintext\"><pre>d5f5e218-ef1f-46d4-8ea2-dc01e78906fe</pre></div></td></tr><tr><td>3</td><td><div class=\"dni-plaintext\"><pre>9eec5c8b-49e0-4b81-9d1b-b247a4e5639e</pre></div></td></tr><tr><td>4</td><td><div class=\"dni-plaintext\"><pre>f8a66913-4c8d-4848-8462-1490e6774b98</pre></div></td></tr><tr><td>5</td><td><div class=\"dni-plaintext\"><pre>00d8d384-3c09-4de6-afcb-47ed2505c56f</pre></div></td></tr><tr><td>6</td><td><div class=\"dni-plaintext\"><pre>ad977730-0e27-462b-b718-85ad3c261d9f</pre></div></td></tr><tr><td>7</td><td><div class=\"dni-plaintext\"><pre>83e7efdd-fd81-407a-9aa2-549c5c8006cc</pre></div></td></tr><tr><td>8</td><td><div class=\"dni-plaintext\"><pre>eb9f6bf5-1d77-4d10-9a9f-e62666cb802c</pre></div></td></tr><tr><td>9</td><td><div class=\"dni-plaintext\"><pre>47af8013-160c-4efb-97ea-0f788859f1bf</pre></div></td></tr><tr><td>10</td><td><div class=\"dni-plaintext\"><pre>e29e3a3e-23a4-40a0-9daa-d487b617deb7</pre></div></td></tr><tr><td>11</td><td><div class=\"dni-plaintext\"><pre>961b2fce-7816-42d0-8a85-a94913c1efd3</pre></div></td></tr><tr><td>12</td><td><div class=\"dni-plaintext\"><pre>eb5790b9-b9fa-46ba-8121-1375da4a0a93</pre></div></td></tr><tr><td>13</td><td><div class=\"dni-plaintext\"><pre>6c32cad5-4364-4fef-9d89-7a1e45d3721f</pre></div></td></tr><tr><td>14</td><td><div class=\"dni-plaintext\"><pre>b20c4074-0b18-400e-abdb-9f7a333de315</pre></div></td></tr><tr><td>15</td><td><div class=\"dni-plaintext\"><pre>9ba942dd-bad4-4d52-aad2-008a91c8864a</pre></div></td></tr><tr><td>16</td><td><div class=\"dni-plaintext\"><pre>1c3272d3-831e-433d-9d2f-25a0430c1e65</pre></div></td></tr><tr><td>17</td><td><div class=\"dni-plaintext\"><pre>a3517aa3-f8c6-4d73-9857-11e93f855217</pre></div></td></tr><tr><td>18</td><td><div class=\"dni-plaintext\"><pre>daab4d01-1b0c-4dbe-b787-d74a61c04e9f</pre></div></td></tr><tr><td>19</td><td><div class=\"dni-plaintext\"><pre>60d14592-9666-4462-b0f7-40415d02a3b7</pre></div></td></tr><tr><td colspan=\"2\"><i>(980 more)</i></td></tr></tbody></table></td></tr></tbody></table></div></details></td></tr><tr><td>1</td><td><details class=\"dni-treeview\"><summary><span class=\"dni-code-hint\"><code>Submission#67+ParquetData</code></span></summary><div><table><thead><tr></tr></thead><tbody><tr><td>Type</td><td><span><a href=\"https://docs.microsoft.com/dotnet/api/system.int64?view=net-7.0\">System.Int64</a></span></td></tr><tr><td>Parameter</td><td><div class=\"dni-plaintext\"><pre>NumberInt64</pre></div></td></tr><tr><td>Data</td><td><table><thead><tr><th><i>index</i></th><th>value</th></tr></thead><tbody><tr><td>0</td><td><div class=\"dni-plaintext\"><pre>7845629069167213222</pre></div></td></tr><tr><td>1</td><td><div class=\"dni-plaintext\"><pre>&lt;null&gt;</pre></div></td></tr><tr><td>2</td><td><div class=\"dni-plaintext\"><pre>2571223319784182554</pre></div></td></tr><tr><td>3</td><td><div class=\"dni-plaintext\"><pre>7985874446053538612</pre></div></td></tr><tr><td>4</td><td><div class=\"dni-plaintext\"><pre>4420816931674320696</pre></div></td></tr><tr><td>5</td><td><div class=\"dni-plaintext\"><pre>5602574144345208453</pre></div></td></tr><tr><td>6</td><td><div class=\"dni-plaintext\"><pre>7764738873350501996</pre></div></td></tr><tr><td>7</td><td><div class=\"dni-plaintext\"><pre>2639691341388613735</pre></div></td></tr><tr><td>8</td><td><div class=\"dni-plaintext\"><pre>6773178977122308016</pre></div></td></tr><tr><td>9</td><td><div class=\"dni-plaintext\"><pre>4416214264821160745</pre></div></td></tr><tr><td>10</td><td><div class=\"dni-plaintext\"><pre>1632346996002094844</pre></div></td></tr><tr><td>11</td><td><div class=\"dni-plaintext\"><pre>7416908330797196143</pre></div></td></tr><tr><td>12</td><td><div class=\"dni-plaintext\"><pre>8807084430715767040</pre></div></td></tr><tr><td>13</td><td><div class=\"dni-plaintext\"><pre>7239457714236281931</pre></div></td></tr><tr><td>14</td><td><div class=\"dni-plaintext\"><pre>9216734254666769212</pre></div></td></tr><tr><td>15</td><td><div class=\"dni-plaintext\"><pre>5689991950669048508</pre></div></td></tr><tr><td>16</td><td><div class=\"dni-plaintext\"><pre>2659217869213947676</pre></div></td></tr><tr><td>17</td><td><div class=\"dni-plaintext\"><pre>2239368262774874772</pre></div></td></tr><tr><td>18</td><td><div class=\"dni-plaintext\"><pre>7134440804552972918</pre></div></td></tr><tr><td>19</td><td><div class=\"dni-plaintext\"><pre>8383528301941172495</pre></div></td></tr><tr><td colspan=\"2\"><i>(980 more)</i></td></tr></tbody></table></td></tr></tbody></table></div></details></td></tr><tr><td>2</td><td><details class=\"dni-treeview\"><summary><span class=\"dni-code-hint\"><code>Submission#67+ParquetData</code></span></summary><div><table><thead><tr></tr></thead><tbody><tr><td>Type</td><td><span><a href=\"https://docs.microsoft.com/dotnet/api/system.int32?view=net-7.0\">System.Int32</a></span></td></tr><tr><td>Parameter</td><td><div class=\"dni-plaintext\"><pre>NumberInt</pre></div></td></tr><tr><td>Data</td><td><table><thead><tr><th><i>index</i></th><th>value</th></tr></thead><tbody><tr><td>0</td><td><div class=\"dni-plaintext\"><pre>1183366430</pre></div></td></tr><tr><td>1</td><td><div class=\"dni-plaintext\"><pre>&lt;null&gt;</pre></div></td></tr><tr><td>2</td><td><div class=\"dni-plaintext\"><pre>1462848545</pre></div></td></tr><tr><td>3</td><td><div class=\"dni-plaintext\"><pre>945868203</pre></div></td></tr><tr><td>4</td><td><div class=\"dni-plaintext\"><pre>46677557</pre></div></td></tr><tr><td>5</td><td><div class=\"dni-plaintext\"><pre>1165821533</pre></div></td></tr><tr><td>6</td><td><div class=\"dni-plaintext\"><pre>2130713355</pre></div></td></tr><tr><td>7</td><td><div class=\"dni-plaintext\"><pre>640634395</pre></div></td></tr><tr><td>8</td><td><div class=\"dni-plaintext\"><pre>428596348</pre></div></td></tr><tr><td>9</td><td><div class=\"dni-plaintext\"><pre>106631736</pre></div></td></tr><tr><td>10</td><td><div class=\"dni-plaintext\"><pre>1128625980</pre></div></td></tr><tr><td>11</td><td><div class=\"dni-plaintext\"><pre>721705016</pre></div></td></tr><tr><td>12</td><td><div class=\"dni-plaintext\"><pre>1416489286</pre></div></td></tr><tr><td>13</td><td><div class=\"dni-plaintext\"><pre>927904960</pre></div></td></tr><tr><td>14</td><td><div class=\"dni-plaintext\"><pre>1973625565</pre></div></td></tr><tr><td>15</td><td><div class=\"dni-plaintext\"><pre>69251447</pre></div></td></tr><tr><td>16</td><td><div class=\"dni-plaintext\"><pre>243020427</pre></div></td></tr><tr><td>17</td><td><div class=\"dni-plaintext\"><pre>680331213</pre></div></td></tr><tr><td>18</td><td><div class=\"dni-plaintext\"><pre>1037198219</pre></div></td></tr><tr><td>19</td><td><div class=\"dni-plaintext\"><pre>836848704</pre></div></td></tr><tr><td colspan=\"2\"><i>(980 more)</i></td></tr></tbody></table></td></tr></tbody></table></div></details></td></tr><tr><td>3</td><td><details class=\"dni-treeview\"><summary><span class=\"dni-code-hint\"><code>Submission#67+ParquetData</code></span></summary><div><table><thead><tr></tr></thead><tbody><tr><td>Type</td><td><span><a href=\"https://docs.microsoft.com/dotnet/api/system.single?view=net-7.0\">System.Single</a></span></td></tr><tr><td>Parameter</td><td><div class=\"dni-plaintext\"><pre>NumberSingle</pre></div></td></tr><tr><td>Data</td><td><table><thead><tr><th><i>index</i></th><th>value</th></tr></thead><tbody><tr><td>0</td><td><div class=\"dni-plaintext\"><pre>0.12362164</pre></div></td></tr><tr><td>1</td><td><div class=\"dni-plaintext\"><pre>&lt;null&gt;</pre></div></td></tr><tr><td>2</td><td><div class=\"dni-plaintext\"><pre>0.47886884</pre></div></td></tr><tr><td>3</td><td><div class=\"dni-plaintext\"><pre>0.15406251</pre></div></td></tr><tr><td>4</td><td><div class=\"dni-plaintext\"><pre>0.84951955</pre></div></td></tr><tr><td>5</td><td><div class=\"dni-plaintext\"><pre>0.360834</pre></div></td></tr><tr><td>6</td><td><div class=\"dni-plaintext\"><pre>0.1448291</pre></div></td></tr><tr><td>7</td><td><div class=\"dni-plaintext\"><pre>0.24469388</pre></div></td></tr><tr><td>8</td><td><div class=\"dni-plaintext\"><pre>0.04587066</pre></div></td></tr><tr><td>9</td><td><div class=\"dni-plaintext\"><pre>0.4232409</pre></div></td></tr><tr><td>10</td><td><div class=\"dni-plaintext\"><pre>0.75893164</pre></div></td></tr><tr><td>11</td><td><div class=\"dni-plaintext\"><pre>0.61954206</pre></div></td></tr><tr><td>12</td><td><div class=\"dni-plaintext\"><pre>0.8413385</pre></div></td></tr><tr><td>13</td><td><div class=\"dni-plaintext\"><pre>0.21290243</pre></div></td></tr><tr><td>14</td><td><div class=\"dni-plaintext\"><pre>0.19657022</pre></div></td></tr><tr><td>15</td><td><div class=\"dni-plaintext\"><pre>0.54872507</pre></div></td></tr><tr><td>16</td><td><div class=\"dni-plaintext\"><pre>0.37734288</pre></div></td></tr><tr><td>17</td><td><div class=\"dni-plaintext\"><pre>0.35460144</pre></div></td></tr><tr><td>18</td><td><div class=\"dni-plaintext\"><pre>0.7781794</pre></div></td></tr><tr><td>19</td><td><div class=\"dni-plaintext\"><pre>0.1444934</pre></div></td></tr><tr><td colspan=\"2\"><i>(980 more)</i></td></tr></tbody></table></td></tr></tbody></table></div></details></td></tr><tr><td>4</td><td><details class=\"dni-treeview\"><summary><span class=\"dni-code-hint\"><code>Submission#67+ParquetData</code></span></summary><div><table><thead><tr></tr></thead><tbody><tr><td>Type</td><td><span><a href=\"https://docs.microsoft.com/dotnet/api/system.datetime?view=net-7.0\">System.DateTime</a></span></td></tr><tr><td>Parameter</td><td><div class=\"dni-plaintext\"><pre>Date</pre></div></td></tr><tr><td>Data</td><td><table><thead><tr><th><i>index</i></th><th>value</th></tr></thead><tbody><tr><td>0</td><td><span>2006-08-29 00:00:00Z</span></td></tr><tr><td>1</td><td><div class=\"dni-plaintext\"><pre>&lt;null&gt;</pre></div></td></tr><tr><td>2</td><td><span>2002-08-13 00:00:00Z</span></td></tr><tr><td>3</td><td><span>1996-06-01 00:00:00Z</span></td></tr><tr><td>4</td><td><span>2020-10-13 00:00:00Z</span></td></tr><tr><td>5</td><td><span>2006-03-12 00:00:00Z</span></td></tr><tr><td>6</td><td><span>2020-07-06 00:00:00Z</span></td></tr><tr><td>7</td><td><span>1995-10-27 00:00:00Z</span></td></tr><tr><td>8</td><td><span>2010-09-17 00:00:00Z</span></td></tr><tr><td>9</td><td><span>1997-09-13 00:00:00Z</span></td></tr><tr><td>10</td><td><span>2001-06-07 00:00:00Z</span></td></tr><tr><td>11</td><td><span>2004-04-30 00:00:00Z</span></td></tr><tr><td>12</td><td><span>2022-02-07 00:00:00Z</span></td></tr><tr><td>13</td><td><span>2008-02-09 00:00:00Z</span></td></tr><tr><td>14</td><td><span>2000-05-22 00:00:00Z</span></td></tr><tr><td>15</td><td><span>2016-07-17 00:00:00Z</span></td></tr><tr><td>16</td><td><span>2022-03-03 00:00:00Z</span></td></tr><tr><td>17</td><td><span>1996-07-28 00:00:00Z</span></td></tr><tr><td>18</td><td><span>2017-04-13 00:00:00Z</span></td></tr><tr><td>19</td><td><span>2011-07-02 00:00:00Z</span></td></tr><tr><td colspan=\"2\"><i>(980 more)</i></td></tr></tbody></table></td></tr></tbody></table></div></details></td></tr></tbody></table><style>\r\n",
       ".dni-code-hint {\r\n",
       "    font-style: italic;\r\n",
       "    overflow: hidden;\r\n",
       "    white-space: nowrap;\r\n",
       "}\r\n",
       ".dni-treeview {\r\n",
       "    white-space: nowrap;\r\n",
       "}\r\n",
       ".dni-treeview td {\r\n",
       "    vertical-align: top;\r\n",
       "    text-align: start;\r\n",
       "}\r\n",
       "details.dni-treeview {\r\n",
       "    padding-left: 1em;\r\n",
       "}\r\n",
       "table td {\r\n",
       "    text-align: start;\r\n",
       "}\r\n",
       "table tr { \r\n",
       "    vertical-align: top; \r\n",
       "    margin: 0em 0px;\r\n",
       "}\r\n",
       "table tr td pre \r\n",
       "{ \r\n",
       "    vertical-align: top !important; \r\n",
       "    margin: 0em 0px !important;\r\n",
       "} \r\n",
       "table th {\r\n",
       "    text-align: start;\r\n",
       "}\r\n",
       "</style>"
      ]
     },
     "metadata": {},
     "output_type": "display_data"
    }
   ],
   "source": [
    "List<ParquetData> nplist =  props.Select(s => new ParquetData {\n",
    "   Parameter = s.Name,\n",
    "   Type = Type.GetType(s.TypeNameOfValue),\n",
    "   Data = (from o in io select o.Properties[s.Name].Value).ToArray()\n",
    "   }).ToList();\n",
    "return nplist;"
   ]
  },
  {
   "cell_type": "code",
   "execution_count": 82,
   "metadata": {
    "dotnet_interactive": {
     "language": "csharp"
    },
    "polyglot_notebook": {
     "kernelName": "csharp"
    },
    "vscode": {
     "languageId": "polyglot-notebook"
    }
   },
   "outputs": [],
   "source": [
    "using Parquet;\n",
    "using Parquet.Data;\n",
    "using Parquet.Schema;"
   ]
  },
  {
   "cell_type": "code",
   "execution_count": 116,
   "metadata": {
    "dotnet_interactive": {
     "language": "csharp"
    },
    "polyglot_notebook": {
     "kernelName": "csharp"
    },
    "vscode": {
     "languageId": "polyglot-notebook"
    }
   },
   "outputs": [
    {
     "data": {
      "text/html": [
       "<details open=\"open\" class=\"dni-treeview\"><summary><span class=\"dni-code-hint\"><code>Id (System.String)\\r\\nNumberInt64 (System.Int64)\\r\\nNumberInt (System.Int32)\\r\\nNumberSingle (System.Single)\\r\\nDate (System.DateTime)</code></span></summary><div><table><thead><tr></tr></thead><tbody><tr><td>Fields</td><td><table><thead><tr><th><i>index</i></th><th>value</th></tr></thead><tbody><tr><td>0</td><td><details class=\"dni-treeview\"><summary><span class=\"dni-code-hint\"><code>Id (System.String)</code></span></summary><div><table><thead><tr></tr></thead><tbody><tr><td>IsNullable</td><td><div class=\"dni-plaintext\"><pre>False</pre></div></td></tr><tr><td>HasNulls</td><td><div class=\"dni-plaintext\"><pre>False</pre></div></td></tr><tr><td>IsArray</td><td><div class=\"dni-plaintext\"><pre>False</pre></div></td></tr><tr><td>ClrType</td><td><span><a href=\"https://docs.microsoft.com/dotnet/api/system.string?view=net-7.0\">System.String</a></span></td></tr><tr><td>ClrNullableIfHasNullsType</td><td><span><a href=\"https://docs.microsoft.com/dotnet/api/system.string?view=net-7.0\">System.String</a></span></td></tr><tr><td>SchemaType</td><td><span>Data</span></td></tr><tr><td>Name</td><td><div class=\"dni-plaintext\"><pre>Id</pre></div></td></tr><tr><td>Path</td><td><details class=\"dni-treeview\"><summary><span class=\"dni-code-hint\"><code>Id</code></span></summary><div><table><thead><tr></tr></thead><tbody><tr><td>FirstPart</td><td><div class=\"dni-plaintext\"><pre>Id</pre></div></td></tr><tr><td>Length</td><td><div class=\"dni-plaintext\"><pre>1</pre></div></td></tr></tbody></table></div></details></td></tr><tr><td>MaxRepetitionLevel</td><td><div class=\"dni-plaintext\"><pre>0</pre></div></td></tr><tr><td>MaxDefinitionLevel</td><td><div class=\"dni-plaintext\"><pre>0</pre></div></td></tr><tr><td>SchemaElement</td><td><div class=\"dni-plaintext\"><pre>&lt;null&gt;</pre></div></td></tr></tbody></table></div></details></td></tr><tr><td>1</td><td><details class=\"dni-treeview\"><summary><span class=\"dni-code-hint\"><code>NumberInt64 (System.Int64)</code></span></summary><div><table><thead><tr></tr></thead><tbody><tr><td>IsNullable</td><td><div class=\"dni-plaintext\"><pre>False</pre></div></td></tr><tr><td>HasNulls</td><td><div class=\"dni-plaintext\"><pre>False</pre></div></td></tr><tr><td>IsArray</td><td><div class=\"dni-plaintext\"><pre>False</pre></div></td></tr><tr><td>ClrType</td><td><span><a href=\"https://docs.microsoft.com/dotnet/api/system.int64?view=net-7.0\">System.Int64</a></span></td></tr><tr><td>ClrNullableIfHasNullsType</td><td><span><a href=\"https://docs.microsoft.com/dotnet/api/system.int64?view=net-7.0\">System.Int64</a></span></td></tr><tr><td>SchemaType</td><td><span>Data</span></td></tr><tr><td>Name</td><td><div class=\"dni-plaintext\"><pre>NumberInt64</pre></div></td></tr><tr><td>Path</td><td><details class=\"dni-treeview\"><summary><span class=\"dni-code-hint\"><code>NumberInt64</code></span></summary><div><table><thead><tr></tr></thead><tbody><tr><td>FirstPart</td><td><div class=\"dni-plaintext\"><pre>NumberInt64</pre></div></td></tr><tr><td>Length</td><td><div class=\"dni-plaintext\"><pre>1</pre></div></td></tr></tbody></table></div></details></td></tr><tr><td>MaxRepetitionLevel</td><td><div class=\"dni-plaintext\"><pre>0</pre></div></td></tr><tr><td>MaxDefinitionLevel</td><td><div class=\"dni-plaintext\"><pre>0</pre></div></td></tr><tr><td>SchemaElement</td><td><div class=\"dni-plaintext\"><pre>&lt;null&gt;</pre></div></td></tr></tbody></table></div></details></td></tr><tr><td>2</td><td><details class=\"dni-treeview\"><summary><span class=\"dni-code-hint\"><code>NumberInt (System.Int32)</code></span></summary><div><table><thead><tr></tr></thead><tbody><tr><td>IsNullable</td><td><div class=\"dni-plaintext\"><pre>False</pre></div></td></tr><tr><td>HasNulls</td><td><div class=\"dni-plaintext\"><pre>False</pre></div></td></tr><tr><td>IsArray</td><td><div class=\"dni-plaintext\"><pre>False</pre></div></td></tr><tr><td>ClrType</td><td><span><a href=\"https://docs.microsoft.com/dotnet/api/system.int32?view=net-7.0\">System.Int32</a></span></td></tr><tr><td>ClrNullableIfHasNullsType</td><td><span><a href=\"https://docs.microsoft.com/dotnet/api/system.int32?view=net-7.0\">System.Int32</a></span></td></tr><tr><td>SchemaType</td><td><span>Data</span></td></tr><tr><td>Name</td><td><div class=\"dni-plaintext\"><pre>NumberInt</pre></div></td></tr><tr><td>Path</td><td><details class=\"dni-treeview\"><summary><span class=\"dni-code-hint\"><code>NumberInt</code></span></summary><div><table><thead><tr></tr></thead><tbody><tr><td>FirstPart</td><td><div class=\"dni-plaintext\"><pre>NumberInt</pre></div></td></tr><tr><td>Length</td><td><div class=\"dni-plaintext\"><pre>1</pre></div></td></tr></tbody></table></div></details></td></tr><tr><td>MaxRepetitionLevel</td><td><div class=\"dni-plaintext\"><pre>0</pre></div></td></tr><tr><td>MaxDefinitionLevel</td><td><div class=\"dni-plaintext\"><pre>0</pre></div></td></tr><tr><td>SchemaElement</td><td><div class=\"dni-plaintext\"><pre>&lt;null&gt;</pre></div></td></tr></tbody></table></div></details></td></tr><tr><td>3</td><td><details class=\"dni-treeview\"><summary><span class=\"dni-code-hint\"><code>NumberSingle (System.Single)</code></span></summary><div><table><thead><tr></tr></thead><tbody><tr><td>IsNullable</td><td><div class=\"dni-plaintext\"><pre>False</pre></div></td></tr><tr><td>HasNulls</td><td><div class=\"dni-plaintext\"><pre>False</pre></div></td></tr><tr><td>IsArray</td><td><div class=\"dni-plaintext\"><pre>False</pre></div></td></tr><tr><td>ClrType</td><td><span><a href=\"https://docs.microsoft.com/dotnet/api/system.single?view=net-7.0\">System.Single</a></span></td></tr><tr><td>ClrNullableIfHasNullsType</td><td><span><a href=\"https://docs.microsoft.com/dotnet/api/system.single?view=net-7.0\">System.Single</a></span></td></tr><tr><td>SchemaType</td><td><span>Data</span></td></tr><tr><td>Name</td><td><div class=\"dni-plaintext\"><pre>NumberSingle</pre></div></td></tr><tr><td>Path</td><td><details class=\"dni-treeview\"><summary><span class=\"dni-code-hint\"><code>NumberSingle</code></span></summary><div><table><thead><tr></tr></thead><tbody><tr><td>FirstPart</td><td><div class=\"dni-plaintext\"><pre>NumberSingle</pre></div></td></tr><tr><td>Length</td><td><div class=\"dni-plaintext\"><pre>1</pre></div></td></tr></tbody></table></div></details></td></tr><tr><td>MaxRepetitionLevel</td><td><div class=\"dni-plaintext\"><pre>0</pre></div></td></tr><tr><td>MaxDefinitionLevel</td><td><div class=\"dni-plaintext\"><pre>0</pre></div></td></tr><tr><td>SchemaElement</td><td><div class=\"dni-plaintext\"><pre>&lt;null&gt;</pre></div></td></tr></tbody></table></div></details></td></tr><tr><td>4</td><td><details class=\"dni-treeview\"><summary><span class=\"dni-code-hint\"><code>Date (System.DateTime)</code></span></summary><div><table><thead><tr></tr></thead><tbody><tr><td>IsNullable</td><td><div class=\"dni-plaintext\"><pre>False</pre></div></td></tr><tr><td>HasNulls</td><td><div class=\"dni-plaintext\"><pre>False</pre></div></td></tr><tr><td>IsArray</td><td><div class=\"dni-plaintext\"><pre>False</pre></div></td></tr><tr><td>ClrType</td><td><span><a href=\"https://docs.microsoft.com/dotnet/api/system.datetime?view=net-7.0\">System.DateTime</a></span></td></tr><tr><td>ClrNullableIfHasNullsType</td><td><span><a href=\"https://docs.microsoft.com/dotnet/api/system.datetime?view=net-7.0\">System.DateTime</a></span></td></tr><tr><td>SchemaType</td><td><span>Data</span></td></tr><tr><td>Name</td><td><div class=\"dni-plaintext\"><pre>Date</pre></div></td></tr><tr><td>Path</td><td><details class=\"dni-treeview\"><summary><span class=\"dni-code-hint\"><code>Date</code></span></summary><div><table><thead><tr></tr></thead><tbody><tr><td>FirstPart</td><td><div class=\"dni-plaintext\"><pre>Date</pre></div></td></tr><tr><td>Length</td><td><div class=\"dni-plaintext\"><pre>1</pre></div></td></tr></tbody></table></div></details></td></tr><tr><td>MaxRepetitionLevel</td><td><div class=\"dni-plaintext\"><pre>0</pre></div></td></tr><tr><td>MaxDefinitionLevel</td><td><div class=\"dni-plaintext\"><pre>0</pre></div></td></tr><tr><td>SchemaElement</td><td><div class=\"dni-plaintext\"><pre>&lt;null&gt;</pre></div></td></tr></tbody></table></div></details></td></tr></tbody></table></td></tr><tr><td>DataFields</td><td><table><thead><tr><th><i>index</i></th><th>value</th></tr></thead><tbody><tr><td>0</td><td><details class=\"dni-treeview\"><summary><span class=\"dni-code-hint\"><code>Id (System.String)</code></span></summary><div><table><thead><tr></tr></thead><tbody><tr><td>IsNullable</td><td><div class=\"dni-plaintext\"><pre>False</pre></div></td></tr><tr><td>HasNulls</td><td><div class=\"dni-plaintext\"><pre>False</pre></div></td></tr><tr><td>IsArray</td><td><div class=\"dni-plaintext\"><pre>False</pre></div></td></tr><tr><td>ClrType</td><td><span><a href=\"https://docs.microsoft.com/dotnet/api/system.string?view=net-7.0\">System.String</a></span></td></tr><tr><td>ClrNullableIfHasNullsType</td><td><span><a href=\"https://docs.microsoft.com/dotnet/api/system.string?view=net-7.0\">System.String</a></span></td></tr><tr><td>SchemaType</td><td><span>Data</span></td></tr><tr><td>Name</td><td><div class=\"dni-plaintext\"><pre>Id</pre></div></td></tr><tr><td>Path</td><td><details class=\"dni-treeview\"><summary><span class=\"dni-code-hint\"><code>Id</code></span></summary><div><table><thead><tr></tr></thead><tbody><tr><td>FirstPart</td><td><div class=\"dni-plaintext\"><pre>Id</pre></div></td></tr><tr><td>Length</td><td><div class=\"dni-plaintext\"><pre>1</pre></div></td></tr></tbody></table></div></details></td></tr><tr><td>MaxRepetitionLevel</td><td><div class=\"dni-plaintext\"><pre>0</pre></div></td></tr><tr><td>MaxDefinitionLevel</td><td><div class=\"dni-plaintext\"><pre>0</pre></div></td></tr><tr><td>SchemaElement</td><td><div class=\"dni-plaintext\"><pre>&lt;null&gt;</pre></div></td></tr></tbody></table></div></details></td></tr><tr><td>1</td><td><details class=\"dni-treeview\"><summary><span class=\"dni-code-hint\"><code>NumberInt64 (System.Int64)</code></span></summary><div><table><thead><tr></tr></thead><tbody><tr><td>IsNullable</td><td><div class=\"dni-plaintext\"><pre>False</pre></div></td></tr><tr><td>HasNulls</td><td><div class=\"dni-plaintext\"><pre>False</pre></div></td></tr><tr><td>IsArray</td><td><div class=\"dni-plaintext\"><pre>False</pre></div></td></tr><tr><td>ClrType</td><td><span><a href=\"https://docs.microsoft.com/dotnet/api/system.int64?view=net-7.0\">System.Int64</a></span></td></tr><tr><td>ClrNullableIfHasNullsType</td><td><span><a href=\"https://docs.microsoft.com/dotnet/api/system.int64?view=net-7.0\">System.Int64</a></span></td></tr><tr><td>SchemaType</td><td><span>Data</span></td></tr><tr><td>Name</td><td><div class=\"dni-plaintext\"><pre>NumberInt64</pre></div></td></tr><tr><td>Path</td><td><details class=\"dni-treeview\"><summary><span class=\"dni-code-hint\"><code>NumberInt64</code></span></summary><div><table><thead><tr></tr></thead><tbody><tr><td>FirstPart</td><td><div class=\"dni-plaintext\"><pre>NumberInt64</pre></div></td></tr><tr><td>Length</td><td><div class=\"dni-plaintext\"><pre>1</pre></div></td></tr></tbody></table></div></details></td></tr><tr><td>MaxRepetitionLevel</td><td><div class=\"dni-plaintext\"><pre>0</pre></div></td></tr><tr><td>MaxDefinitionLevel</td><td><div class=\"dni-plaintext\"><pre>0</pre></div></td></tr><tr><td>SchemaElement</td><td><div class=\"dni-plaintext\"><pre>&lt;null&gt;</pre></div></td></tr></tbody></table></div></details></td></tr><tr><td>2</td><td><details class=\"dni-treeview\"><summary><span class=\"dni-code-hint\"><code>NumberInt (System.Int32)</code></span></summary><div><table><thead><tr></tr></thead><tbody><tr><td>IsNullable</td><td><div class=\"dni-plaintext\"><pre>False</pre></div></td></tr><tr><td>HasNulls</td><td><div class=\"dni-plaintext\"><pre>False</pre></div></td></tr><tr><td>IsArray</td><td><div class=\"dni-plaintext\"><pre>False</pre></div></td></tr><tr><td>ClrType</td><td><span><a href=\"https://docs.microsoft.com/dotnet/api/system.int32?view=net-7.0\">System.Int32</a></span></td></tr><tr><td>ClrNullableIfHasNullsType</td><td><span><a href=\"https://docs.microsoft.com/dotnet/api/system.int32?view=net-7.0\">System.Int32</a></span></td></tr><tr><td>SchemaType</td><td><span>Data</span></td></tr><tr><td>Name</td><td><div class=\"dni-plaintext\"><pre>NumberInt</pre></div></td></tr><tr><td>Path</td><td><details class=\"dni-treeview\"><summary><span class=\"dni-code-hint\"><code>NumberInt</code></span></summary><div><table><thead><tr></tr></thead><tbody><tr><td>FirstPart</td><td><div class=\"dni-plaintext\"><pre>NumberInt</pre></div></td></tr><tr><td>Length</td><td><div class=\"dni-plaintext\"><pre>1</pre></div></td></tr></tbody></table></div></details></td></tr><tr><td>MaxRepetitionLevel</td><td><div class=\"dni-plaintext\"><pre>0</pre></div></td></tr><tr><td>MaxDefinitionLevel</td><td><div class=\"dni-plaintext\"><pre>0</pre></div></td></tr><tr><td>SchemaElement</td><td><div class=\"dni-plaintext\"><pre>&lt;null&gt;</pre></div></td></tr></tbody></table></div></details></td></tr><tr><td>3</td><td><details class=\"dni-treeview\"><summary><span class=\"dni-code-hint\"><code>NumberSingle (System.Single)</code></span></summary><div><table><thead><tr></tr></thead><tbody><tr><td>IsNullable</td><td><div class=\"dni-plaintext\"><pre>False</pre></div></td></tr><tr><td>HasNulls</td><td><div class=\"dni-plaintext\"><pre>False</pre></div></td></tr><tr><td>IsArray</td><td><div class=\"dni-plaintext\"><pre>False</pre></div></td></tr><tr><td>ClrType</td><td><span><a href=\"https://docs.microsoft.com/dotnet/api/system.single?view=net-7.0\">System.Single</a></span></td></tr><tr><td>ClrNullableIfHasNullsType</td><td><span><a href=\"https://docs.microsoft.com/dotnet/api/system.single?view=net-7.0\">System.Single</a></span></td></tr><tr><td>SchemaType</td><td><span>Data</span></td></tr><tr><td>Name</td><td><div class=\"dni-plaintext\"><pre>NumberSingle</pre></div></td></tr><tr><td>Path</td><td><details class=\"dni-treeview\"><summary><span class=\"dni-code-hint\"><code>NumberSingle</code></span></summary><div><table><thead><tr></tr></thead><tbody><tr><td>FirstPart</td><td><div class=\"dni-plaintext\"><pre>NumberSingle</pre></div></td></tr><tr><td>Length</td><td><div class=\"dni-plaintext\"><pre>1</pre></div></td></tr></tbody></table></div></details></td></tr><tr><td>MaxRepetitionLevel</td><td><div class=\"dni-plaintext\"><pre>0</pre></div></td></tr><tr><td>MaxDefinitionLevel</td><td><div class=\"dni-plaintext\"><pre>0</pre></div></td></tr><tr><td>SchemaElement</td><td><div class=\"dni-plaintext\"><pre>&lt;null&gt;</pre></div></td></tr></tbody></table></div></details></td></tr><tr><td>4</td><td><details class=\"dni-treeview\"><summary><span class=\"dni-code-hint\"><code>Date (System.DateTime)</code></span></summary><div><table><thead><tr></tr></thead><tbody><tr><td>IsNullable</td><td><div class=\"dni-plaintext\"><pre>False</pre></div></td></tr><tr><td>HasNulls</td><td><div class=\"dni-plaintext\"><pre>False</pre></div></td></tr><tr><td>IsArray</td><td><div class=\"dni-plaintext\"><pre>False</pre></div></td></tr><tr><td>ClrType</td><td><span><a href=\"https://docs.microsoft.com/dotnet/api/system.datetime?view=net-7.0\">System.DateTime</a></span></td></tr><tr><td>ClrNullableIfHasNullsType</td><td><span><a href=\"https://docs.microsoft.com/dotnet/api/system.datetime?view=net-7.0\">System.DateTime</a></span></td></tr><tr><td>SchemaType</td><td><span>Data</span></td></tr><tr><td>Name</td><td><div class=\"dni-plaintext\"><pre>Date</pre></div></td></tr><tr><td>Path</td><td><details class=\"dni-treeview\"><summary><span class=\"dni-code-hint\"><code>Date</code></span></summary><div><table><thead><tr></tr></thead><tbody><tr><td>FirstPart</td><td><div class=\"dni-plaintext\"><pre>Date</pre></div></td></tr><tr><td>Length</td><td><div class=\"dni-plaintext\"><pre>1</pre></div></td></tr></tbody></table></div></details></td></tr><tr><td>MaxRepetitionLevel</td><td><div class=\"dni-plaintext\"><pre>0</pre></div></td></tr><tr><td>MaxDefinitionLevel</td><td><div class=\"dni-plaintext\"><pre>0</pre></div></td></tr><tr><td>SchemaElement</td><td><div class=\"dni-plaintext\"><pre>&lt;null&gt;</pre></div></td></tr></tbody></table></div></details></td></tr></tbody></table></td></tr></tbody></table></div></details><style>\r\n",
       ".dni-code-hint {\r\n",
       "    font-style: italic;\r\n",
       "    overflow: hidden;\r\n",
       "    white-space: nowrap;\r\n",
       "}\r\n",
       ".dni-treeview {\r\n",
       "    white-space: nowrap;\r\n",
       "}\r\n",
       ".dni-treeview td {\r\n",
       "    vertical-align: top;\r\n",
       "    text-align: start;\r\n",
       "}\r\n",
       "details.dni-treeview {\r\n",
       "    padding-left: 1em;\r\n",
       "}\r\n",
       "table td {\r\n",
       "    text-align: start;\r\n",
       "}\r\n",
       "table tr { \r\n",
       "    vertical-align: top; \r\n",
       "    margin: 0em 0px;\r\n",
       "}\r\n",
       "table tr td pre \r\n",
       "{ \r\n",
       "    vertical-align: top !important; \r\n",
       "    margin: 0em 0px !important;\r\n",
       "} \r\n",
       "table th {\r\n",
       "    text-align: start;\r\n",
       "}\r\n",
       "</style>"
      ]
     },
     "metadata": {},
     "output_type": "display_data"
    }
   ],
   "source": [
    "var schema = new ParquetSchema(\n",
    "    nplist.Select(s => new DataField(s.Parameter, s.Type,false))\n",
    ");\n",
    "return schema;"
   ]
  },
  {
   "cell_type": "code",
   "execution_count": 107,
   "metadata": {
    "dotnet_interactive": {
     "language": "csharp"
    },
    "polyglot_notebook": {
     "kernelName": "csharp"
    },
    "vscode": {
     "languageId": "polyglot-notebook"
    }
   },
   "outputs": [],
   "source": [
    "using System;\n",
    "using System.IO;\n",
    "using System.ComponentModel;"
   ]
  },
  {
   "cell_type": "code",
   "execution_count": 95,
   "metadata": {
    "dotnet_interactive": {
     "language": "csharp"
    },
    "polyglot_notebook": {
     "kernelName": "csharp"
    },
    "vscode": {
     "languageId": "polyglot-notebook"
    }
   },
   "outputs": [],
   "source": [
    "        public static object GetTypedNull(Type type)\n",
    "        {\n",
    "            dynamic val;\n",
    "            switch (type.ToString())\n",
    "            {\n",
    "                case (\"System.String\"):\n",
    "                    val = \"\";\n",
    "                    break;\n",
    "                case (\"System.DateTime\"):\n",
    "                    val = DateTime.MinValue;\n",
    "                    break;\n",
    "                default:\n",
    "                    val = 0;\n",
    "                    break;\n",
    "\n",
    "            }\n",
    "            return Convert.ChangeType(val, type);\n",
    "        }"
   ]
  },
  {
   "cell_type": "code",
   "execution_count": 118,
   "metadata": {
    "dotnet_interactive": {
     "language": "csharp"
    },
    "polyglot_notebook": {
     "kernelName": "csharp"
    },
    "vscode": {
     "languageId": "polyglot-notebook"
    }
   },
   "outputs": [],
   "source": [
    "using (Stream fileStream = System.IO.File.OpenWrite(\"c:\\\\temp\\\\test.parquet\"))\n",
    "{\n",
    "    using (ParquetWriter parquetWriter = await ParquetWriter.CreateAsync(schema, fileStream))\n",
    "    {\n",
    "        parquetWriter.CompressionMethod = CompressionMethod.Gzip;\n",
    "        parquetWriter.CompressionLevel = System.IO.Compression.CompressionLevel.Optimal;\n",
    "        // create a new row group in the file\n",
    "        using (ParquetRowGroupWriter groupWriter = parquetWriter.CreateRowGroup())\n",
    "        {\n",
    "            for (int i = 0;i < nplist.Count; i++)\n",
    "            {\n",
    "                Array arr = Array.CreateInstance(nplist[i].Type, nplist[i].Data.Count());\n",
    "                var data = nplist[i].Data.Select(s => s ?? GetTypedNull(nplist[i].Type)).ToArray();\n",
    "                Array.Copy(data, arr, nplist[i].Data.Count());\n",
    "                //return arr.GetEnumerator();\n",
    "                DataColumn dc = new DataColumn(schema.DataFields[i], arr);\n",
    "                await groupWriter.WriteColumnAsync(dc);\n",
    "            }\n",
    "        }\n",
    "    }\n",
    "}\n"
   ]
  },
  {
   "cell_type": "code",
   "execution_count": 126,
   "metadata": {
    "dotnet_interactive": {
     "language": "csharp"
    },
    "polyglot_notebook": {
     "kernelName": "csharp"
    },
    "vscode": {
     "languageId": "polyglot-notebook"
    }
   },
   "outputs": [],
   "source": [
    "        public static async Task WriteParquetFile(List<PSObject> inputObject, string filePath)\n",
    "        {\n",
    "            var properties = inputObject[0].Members.Where(w => w.GetType() == typeof(PSNoteProperty)).ToList();\n",
    "\n",
    "            List<ParquetData> parquetData = properties.Select(s => new ParquetData\n",
    "            {\n",
    "                Parameter = s.Name,\n",
    "                Type = Type.GetType(s.TypeNameOfValue),\n",
    "                Data = (from o in inputObject select o.Properties[s.Name].Value).ToArray()\n",
    "            }).ToList();\n",
    "\n",
    "            var schema = new ParquetSchema(\n",
    "                parquetData.Select(s => new DataField(s.Parameter, s.Type, false))\n",
    "            );\n",
    "\n",
    "            using (Stream fileStream = System.IO.File.OpenWrite(filePath))\n",
    "            {\n",
    "                using (ParquetWriter parquetWriter = await ParquetWriter.CreateAsync(schema, fileStream))\n",
    "                {\n",
    "                    parquetWriter.CompressionMethod = CompressionMethod.Gzip;\n",
    "                    parquetWriter.CompressionLevel = System.IO.Compression.CompressionLevel.Optimal;\n",
    "                    // create a new row group in the file\n",
    "                    using (ParquetRowGroupWriter groupWriter = parquetWriter.CreateRowGroup())\n",
    "                    {\n",
    "                        for (int i = 0; i < parquetData.Count; i++)\n",
    "                        {\n",
    "                            Array arr = Array.CreateInstance(parquetData[i].Type, parquetData[i].Data.Count());\n",
    "                            var data = parquetData[i].Data.Select(s => s ?? GetTypedNull(parquetData[i].Type)).ToArray();\n",
    "                            Array.Copy(data, arr, parquetData[i].Data.Count());\n",
    "                            DataColumn dc = new DataColumn(schema.DataFields[i], arr);\n",
    "                            await groupWriter.WriteColumnAsync(dc);\n",
    "                        }\n",
    "                    }\n",
    "                }\n",
    "            }\n",
    "\n",
    "        }"
   ]
  },
  {
   "cell_type": "code",
   "execution_count": 128,
   "metadata": {
    "dotnet_interactive": {
     "language": "csharp"
    },
    "polyglot_notebook": {
     "kernelName": "csharp"
    },
    "vscode": {
     "languageId": "polyglot-notebook"
    }
   },
   "outputs": [
    {
     "data": {
      "text/html": [
       "<details open=\"open\" class=\"dni-treeview\"><summary><span class=\"dni-code-hint\"><code>System.Threading.Tasks.Task`1[System.Threading.Tasks.VoidTaskResult]</code></span></summary><div><table><thead><tr></tr></thead><tbody><tr><td>Id</td><td><div class=\"dni-plaintext\"><pre>8862</pre></div></td></tr><tr><td>Exception</td><td><div class=\"dni-plaintext\"><pre>&lt;null&gt;</pre></div></td></tr><tr><td>Status</td><td><span>RanToCompletion</span></td></tr><tr><td>IsCanceled</td><td><div class=\"dni-plaintext\"><pre>False</pre></div></td></tr><tr><td>IsCompleted</td><td><div class=\"dni-plaintext\"><pre>True</pre></div></td></tr><tr><td>IsCompletedSuccessfully</td><td><div class=\"dni-plaintext\"><pre>True</pre></div></td></tr><tr><td>CreationOptions</td><td><span>None</span></td></tr><tr><td>AsyncState</td><td><div class=\"dni-plaintext\"><pre>&lt;null&gt;</pre></div></td></tr><tr><td>IsFaulted</td><td><div class=\"dni-plaintext\"><pre>False</pre></div></td></tr></tbody></table></div></details><style>\r\n",
       ".dni-code-hint {\r\n",
       "    font-style: italic;\r\n",
       "    overflow: hidden;\r\n",
       "    white-space: nowrap;\r\n",
       "}\r\n",
       ".dni-treeview {\r\n",
       "    white-space: nowrap;\r\n",
       "}\r\n",
       ".dni-treeview td {\r\n",
       "    vertical-align: top;\r\n",
       "    text-align: start;\r\n",
       "}\r\n",
       "details.dni-treeview {\r\n",
       "    padding-left: 1em;\r\n",
       "}\r\n",
       "table td {\r\n",
       "    text-align: start;\r\n",
       "}\r\n",
       "table tr { \r\n",
       "    vertical-align: top; \r\n",
       "    margin: 0em 0px;\r\n",
       "}\r\n",
       "table tr td pre \r\n",
       "{ \r\n",
       "    vertical-align: top !important; \r\n",
       "    margin: 0em 0px !important;\r\n",
       "} \r\n",
       "table th {\r\n",
       "    text-align: start;\r\n",
       "}\r\n",
       "</style>"
      ]
     },
     "metadata": {},
     "output_type": "display_data"
    }
   ],
   "source": [
    "var res = WriteParquetFile(io, \"c:\\\\temp\\\\testvscode3.parquet\");\n",
    "return res;"
   ]
  }
 ],
 "metadata": {
  "language_info": {
   "name": "python"
  },
  "orig_nbformat": 4
 },
 "nbformat": 4,
 "nbformat_minor": 2
}
